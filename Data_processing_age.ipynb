{
  "nbformat": 4,
  "nbformat_minor": 0,
  "metadata": {
    "colab": {
      "provenance": [],
      "gpuType": "T4",
      "mount_file_id": "1Ss1HMfFdPxk_WdG1hLgdKQGfblPvNFnd",
      "authorship_tag": "ABX9TyMsnhHtt29tu61kTiuZv71M",
      "include_colab_link": true
    },
    "kernelspec": {
      "name": "python3",
      "display_name": "Python 3"
    },
    "language_info": {
      "name": "python"
    },
    "accelerator": "GPU",
    "gpuClass": "standard"
  },
  "cells": [
    {
      "cell_type": "markdown",
      "metadata": {
        "id": "view-in-github",
        "colab_type": "text"
      },
      "source": [
        "<a href=\"https://colab.research.google.com/github/NMThanh123/Term-Project-of-course-AI/blob/main/Data_processing_age.ipynb\" target=\"_parent\"><img src=\"https://colab.research.google.com/assets/colab-badge.svg\" alt=\"Open In Colab\"/></a>"
      ]
    },
    {
      "cell_type": "code",
      "execution_count": null,
      "metadata": {
        "id": "JrykGQQG1hj5",
        "colab": {
          "base_uri": "https://localhost:8080/"
        },
        "outputId": "d4a1f72b-8fc2-43b8-8871-5f372ed5db83"
      },
      "outputs": [
        {
          "output_type": "stream",
          "name": "stdout",
          "text": [
            "['46-65', '1-2', '19-29', '10-18', '86-100', '66-85', '3-9', '30-45']\n",
            "46-65\n",
            "Tổng số mẫu: 11497\n"
          ]
        }
      ],
      "source": [
        "import cv2\n",
        "import numpy as np\n",
        "import os\n",
        "import random\n",
        "import pickle\n",
        "from tensorflow.keras.preprocessing.image import img_to_array\n",
        "\n",
        "\n",
        "# load image files from the dataset\n",
        "path = '/content/drive/MyDrive/Cuoi_ky_AI/data/age'\n",
        "folder = os.listdir(path)\n",
        "print(folder)\n",
        "image_files = []\n",
        "for f in folder:\n",
        "    for i, file in enumerate(os.listdir(path + '/' +f)):\n",
        "        image_files.append(path + '/' + f + '/' + file)\n",
        "    # print(f)\n",
        "print(image_files[0].split('/')[-2])\n",
        "random.shuffle(image_files)\n",
        "print('Tổng số mẫu:', len(image_files))\n"
      ]
    },
    {
      "cell_type": "code",
      "source": [
        "# converting images to arrays and labelling the categories and save data to next use\n",
        "def save_data(image_files):\n",
        "    data = []\n",
        "    labels = []\n",
        "    for i, img in enumerate(image_files):\n",
        "        print(i)\n",
        "        # image = cv2.imread(img)\n",
        "        image = cv2.resize(cv2.imread(img), (150,150))\n",
        "        image = img_to_array(image)\n",
        "        data.append(image)\n",
        "        label = img.split('/')[-2]\n",
        "        \n",
        "        if label == \"1-2\":\n",
        "            label = 0\n",
        "        elif label == '3-9':\n",
        "            label = 1\n",
        "        elif label == '10-18':\n",
        "            label = 2\n",
        "        elif label == '19-29':\n",
        "            label = 3\n",
        "        elif label == '30-45':\n",
        "            label = 4\n",
        "        elif label == '46-65':\n",
        "            label = 5\n",
        "        elif label == '66-85':\n",
        "            label = 6\n",
        "        else:\n",
        "            label = 7\n",
        "\n",
        "        labels.append(label)\n",
        "\n",
        "    file = open('/content/drive/MyDrive/Cuoi_ky_AI/Code/data_age.data', 'wb')\n",
        "\n",
        "    images = np.array(data)\n",
        "    labels = np.array(labels)\n",
        "    # dump information to that file\n",
        "    pickle.dump((images, labels), file)\n",
        "    # close the file`\n",
        "    file.close()\n",
        "\n",
        "# Call function to process data\n",
        "save_data(image_files)"
      ],
      "metadata": {
        "id": "7Rb6XDGiNWps"
      },
      "execution_count": null,
      "outputs": []
    }
  ]
}