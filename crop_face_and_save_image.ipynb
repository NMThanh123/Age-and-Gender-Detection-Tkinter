{
  "nbformat": 4,
  "nbformat_minor": 0,
  "metadata": {
    "colab": {
      "provenance": [],
      "gpuType": "T4",
      "include_colab_link": true
    },
    "kernelspec": {
      "name": "python3",
      "display_name": "Python 3"
    },
    "language_info": {
      "name": "python"
    },
    "gpuClass": "standard",
    "accelerator": "GPU"
  },
  "cells": [
    {
      "cell_type": "markdown",
      "metadata": {
        "id": "view-in-github",
        "colab_type": "text"
      },
      "source": [
        "<a href=\"https://colab.research.google.com/github/NMThanh123/Term-Project-of-course-AI/blob/main/crop_face_and_save_image.ipynb\" target=\"_parent\"><img src=\"https://colab.research.google.com/assets/colab-badge.svg\" alt=\"Open In Colab\"/></a>"
      ]
    },
    {
      "cell_type": "code",
      "source": [
        "import cv2\n",
        "import numpy as np\n",
        "from pathlib import Path\n",
        "import random\n",
        "\n",
        "cropping = False\n",
        "x_start, y_start, x_end, y_end = 0, 0, 0, 0\n",
        "j = 0\n",
        "f = Path('D:\\TERM 6\\AI\\Cuoi_ky\\data')\n",
        "train_img = list(f.glob('*.jpg'))\n",
        "\n",
        "print(len(train_img))\n",
        "\n",
        "def mouse_crop(event, x, y, flags, param):\n",
        "\t# grab references to the global variables\n",
        "\tglobal x_start, y_start, x_end, y_end, cropping, oriImage, j\n",
        "\n",
        "\t# if the left mouse button was DOWN, start RECORDING\n",
        "\t# (x, y) coordinates and indicate that cropping is being\n",
        "\tif event == cv2.EVENT_LBUTTONDOWN:\n",
        "\t\tx_start, y_start, x_end, y_end = x, y, x, y\n",
        "\t\tcropping = True\n",
        "\t\tprint(cropping)\n",
        "\n",
        "\t# Mouse is Moving\n",
        "\telif event == cv2.EVENT_MOUSEMOVE:\n",
        "\t\tif cropping == True:\n",
        "\t\t\tx_end, y_end = x, y\n",
        "\n",
        "\t# if the left mouse button was released\n",
        "\telif event == cv2.EVENT_LBUTTONUP:\n",
        "\t\t# record the ending (x, y) coordinates\n",
        "\t\tx_end, y_end = x, y\n",
        "\t\tcropping = False # cropping is finished\n",
        "\n",
        "\t\trefPoint = [(x_start, y_start), (x_end, y_end)]\n",
        "\n",
        "\t\tif len(refPoint) == 2: #when two points were found\n",
        "\t\t\troi = oriImage[refPoint[0][1]:refPoint[1][1], refPoint[0][0]:refPoint[1][0]]\n",
        "\t\t\tcv2.imshow(\"Cropped\", roi)\n",
        "\t\t\tcv2.imwrite('D:\\TERM 6\\AI\\Cuoi_ky\\data\\draft\\img{}.jpg'.format(j), roi)\n",
        "\n",
        "for i in range(0, len(train_img)):\n",
        "\tj+=32\n",
        "\tcv2.namedWindow(\"image\")\n",
        "\tcv2.setMouseCallback(\"image\", mouse_crop)\n",
        "\n",
        "\timage = cv2.imread(str(train_img[i]))\n",
        "\timage = cv2.resize(image, (700, 700))\n",
        "\toriImage = image.copy()\n",
        "\tx_start, y_start, x_end, y_end = 0, 0, 0, 0\n",
        "\n",
        "\twhile True:\n",
        "\t\ti = image.copy()   \n",
        "\n",
        "\t\tif not cropping:\n",
        "\t\t\tcv2.imshow(\"image\", image)\n",
        "\n",
        "\t\telif cropping:\n",
        "\t\t\tcv2.rectangle(i, (x_start, y_start), (x_end, y_end), (255, 0, 0), 2)\n",
        "\t\t\tcv2.imshow(\"image\", i)\n",
        "\t\t\n",
        "\t\tif cv2.waitKey(1) & 0xFF == ord('q'):\n",
        "\t\t\tbreak\n",
        "\t\tif cv2.getWindowProperty('image',cv2.WND_PROP_VISIBLE) < 1:        \n",
        "\t\t\tbreak  \n",
        "\tcv2.waitKey(0)\n",
        "\n",
        "cv2.destroyAllWindows()\n",
        "\n",
        "\n",
        "import cv2 as cv\n",
        "from pathlib import Path\n",
        "\n",
        "img_folder = Path('D:\\TERM 6\\AI\\Cuoi_ky\\data\\draft')\n",
        "# img_train = img_folder / 'draft'\n",
        "\n",
        "# list path image\n",
        "train_img = list(img_folder.glob('*.jpg'))\n",
        "print(train_img)\n",
        "# load image, resize and save\n",
        "for i in range(len(train_img)):\n",
        "    image = str(train_img[i])\n",
        "    img = cv.imread(image)\n",
        "    img = cv.resize(img, (224, 224))\n",
        "    print(123)\n",
        "    cv.imwrite('D:/TERM 6/AI/Cuoi_ky/data/female/face{}.jpg'.format(i+296), img)"
      ],
      "metadata": {
        "id": "TUdmWdkVvSor"
      },
      "execution_count": null,
      "outputs": []
    }
  ]
}